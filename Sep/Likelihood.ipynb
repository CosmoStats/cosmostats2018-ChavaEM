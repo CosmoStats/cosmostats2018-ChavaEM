{
 "cells": [
  {
   "cell_type": "markdown",
   "metadata": {},
   "source": [
    "Consideramos el modelo:\n",
    "\n",
    "$$\\mu = 25 - 5 \\log_{10}(H_0/100) + 5\\log_{10}(D_L/Mpc)$$\n",
    "\n",
    "Donde $D_L$ tiene como solución aproximada:\n",
    "\n",
    "$$D_L = {c \\over H_0} (1 + z)[\\eta(1, \\Omega_m) - \\eta(1/(1+z), \\Omega_m)]$$\n",
    "\n",
    "Siendo:\n",
    "\n",
    "$$\\eta(a,\\Omega_m) = 2\\sqrt{s^2+1}[a^{-4} - 0.1540sa^{-3} + 0.4304s^2a^{-2} + 0.19097s^3a^{-1} + 0.066941s^4]^{-1/8}$$\n",
    "\n",
    "Que a su vez:\n",
    "\n",
    "$$s^3 = (1- \\Omega_m)/\\Omega_m$$\n",
    "\n",
    "Podemos hacer una estimación de los parámetros $H_0$ y $\\Omega_m$ que mejor ajustan los datos de nuestro modelo utilizando la función Likelihood:\n",
    "\n",
    "$$\\mathcal{L} \\propto \\prod_i^n {1 \\over 2\\pi \\sigma_i^2}exp \\left( - \\frac{(x_i-\\mu)^2}{2\\sigma_i^2}\\right )$$\n",
    "\n",
    "o bien:\n",
    "\n",
    "$$-ln(\\mathcal{L}) \\propto {1 \\over 2} \\sum_i^n \\left( \\frac{(y_i - \\lambda(x_i, \\vec{\\theta}))^2}{\\sigma_i^2} \\right)$$\n",
    "\n",
    "En este caso, $y_i$ son los datos de $\\mu$; $x_i$, los datos para $z$; y los parámetros $\\vec{\\theta}$ son $\\Omega_m$ y $H_0$\n",
    "\n",
    "Trataremos de maximizar esta función utilizando el algoritmo de Metrópolis"
   ]
  },
  {
   "cell_type": "code",
   "execution_count": 26,
   "metadata": {},
   "outputs": [],
   "source": [
    "import numpy as np\n",
    "import matplotlib.pyplot as plt\n",
    "import math\n",
    "from random import random"
   ]
  },
  {
   "cell_type": "code",
   "execution_count": 21,
   "metadata": {},
   "outputs": [
    {
     "data": {
      "text/plain": [
       "Text(0.5,1,'Datos a ajustar')"
      ]
     },
     "execution_count": 21,
     "metadata": {},
     "output_type": "execute_result"
    },
    {
     "data": {
      "image/png": "[encoded data removed]",
      "text/plain": [
       "<Figure size 432x288 with 1 Axes>"
      ]
     },
     "metadata": {},
     "output_type": "display_data"
    }
   ],
   "source": [
    "datos = np.loadtxt('JLA_SN/jla_mub.txt', usecols = (0,1), skiprows = 1)\n",
    "z = datos[:, 0]\n",
    "mu = datos[:, 1]\n",
    "\n",
    "plt.scatter(z, mu)\n",
    "plt.xlabel('$z$', fontsize = 16)\n",
    "plt.ylabel('$\\mu$', fontsize = 16)\n",
    "plt.title('Datos a ajustar', fontsize = 16)"
   ]
  },
  {
   "cell_type": "markdown",
   "metadata": {},
   "source": [
    "Como los elementos de la matriz de covarianza están en una lista y solamente nos interesa la varianza, e decir la diagonal de esa matriz, necesitamos saber qué elementos de esa lista son. \n",
    "\n",
    "Para una matriz cuadrada de dimensión $n$, los elementos de la diagonal son $i(n+1)$, siendo $i$ el $i$-ésimo elemento de la diagonal."
   ]
  },
  {
   "cell_type": "code",
   "execution_count": 47,
   "metadata": {},
   "outputs": [
    {
     "data": {
      "text/plain": [
       "<matplotlib.collections.PathCollection at 0x7f1adeac3f98>"
      ]
     },
     "execution_count": 47,
     "metadata": {},
     "output_type": "execute_result"
    },
    {
     "data": {
      "image/png": "[encoded data removed]",
      "text/plain": [
       "<Figure size 432x288 with 1 Axes>"
      ]
     },
     "metadata": {},
     "output_type": "display_data"
    }
   ],
   "source": [
    "datos_cov = np.loadtxt('JLA_SN/jla_mub_covmatrix.dat', skiprows = 1)\n",
    "varianza = np.array([])\n",
    "for i in range(31):\n",
    "    varianza = np.append(varianza, datos_cov[i*(31+1)])\n",
    "    \n",
    "def s(omega_m):\n",
    "    return ((1 - omega_m)/omega_m)**(1.0/3.0)\n",
    "\n",
    "def eta(a, omega_m):\n",
    "    S = s(omega_m)\n",
    "    return 2*math.sqrt(S**2 + 1)*(1/(a**4) - 0.1540*S/(a**3) + 0.4304*S**2/(a**2) + 0.19097*S**3/a + 0.066941*S**4)**(-1.0/8.0)\n",
    "\n",
    "def DL(z,H0,omega_m):\n",
    "    c = 3.0*10**5\n",
    "    return c/H0*(1 + z)*(eta(1,omega_m)-eta(1/(1+z), omega_m))\n",
    "\n",
    "def Mu(z, H0, omega_m):\n",
    "    return 25 - 5*math.log10(H0/100) + 5*math.log10(DL(z, H0, omega_m))\n",
    "\n",
    "def ln_L(mu, z, H0, omega_m, varianza):\n",
    "    suma = 0\n",
    "    for i in range(len(mu)):\n",
    "        suma += (mu[i] - Mu(z[i], H0, omega_m))**2/varianza[i]\n",
    "    return 0.5*suma\n",
    "\n",
    "H0 = 53\n",
    "omega_m = 0.4\n",
    "\n",
    "old_L = ln_L(mu,z,H0,omega_m,varianza)\n",
    "\n",
    "#print(old_L)\n",
    "\n",
    "H_list = []\n",
    "Om_list = []\n",
    "for i in range(100):\n",
    "    H0 += 2*random() - 1\n",
    "    omega_m += 0.05*(2*random() - 1)\n",
    "    if omega_m < 0 or omega_m > 1:\n",
    "        continue\n",
    "    new_L = ln_L(mu,z, H0,omega_m,varianza)\n",
    "    \n",
    "    if new_L > old_L:\n",
    "        old_L = new_L\n",
    "        H_list.append(H0)\n",
    "        Om_list.append(omega_m)\n",
    "        \n",
    "    elif new_L > -math.log(random()):\n",
    "        old_L = new_L\n",
    "        H_list.append(H0)\n",
    "        Om_list.append(omega_m)\n",
    "\n",
    "plt.scatter(H_list, Om_list)"
   ]
  }
 ],
 "metadata": {
  "kernelspec": {
   "display_name": "Python 3",
   "language": "python",
   "name": "python3"
  },
  "language_info": {
   "codemirror_mode": {
    "name": "ipython",
    "version": 3
   },
   "file_extension": ".py",
   "mimetype": "text/x-python",
   "name": "python",
   "nbconvert_exporter": "python",
   "pygments_lexer": "ipython3",
   "version": "3.7.0"
  }
 },
 "nbformat": 4,
 "nbformat_minor": 2
}
