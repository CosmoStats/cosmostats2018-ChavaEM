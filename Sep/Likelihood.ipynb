{
 "cells": [
  {
   "cell_type": "markdown",
   "metadata": {},
   "source": [
    "Consideramos el modelo:\n",
    "\n",
    "$$\\mu = 25 - 5 \\log_{10}(H_0/100) + 5\\log_{10}(D_L/Mpc)$$\n",
    "\n",
    "Donde $D_L$ tiene como solución aproximada:\n",
    "\n",
    "$$D_L = {c \\over H_0} (1 + z)[\\eta(1, \\Omega_m) - \\eta(1/(1+z), \\Omega_m)]$$\n",
    "\n",
    "Siendo:\n",
    "\n",
    "$$\\eta(a,\\Omega_m) = 2\\sqrt{s^2+1}[a^{-4} - 0.1540sa^{-3} + 0.4304s^2a^{-2} + 0.19097s^3a^{-1} + 0.066941s^4]^{-1/8}$$\n",
    "\n",
    "Que a su vez:\n",
    "\n",
    "$$s^3 = (1- \\Omega_m)/\\Omega_m$$\n",
    "\n",
    "Podemos hacer una estimación de los parámetros $H_0$ y $\\Omega_m$ que mejor ajustan los datos de nuestro modelo utilizando la función Likelihood:\n",
    "\n",
    "$$\\mathcal{L} \\propto \\prod_i^n {1 \\over 2\\pi \\sigma_i^2}exp \\left( - \\frac{(x_i-\\mu)^2}{2\\sigma_i^2}\\right )$$\n",
    "\n",
    "o bien:\n",
    "\n",
    "$$-ln(\\mathcal{L}) \\propto {1 \\over 2} \\sum_i^n \\left( \\frac{(y_i - \\lambda(x_i, \\vec{\\theta}))^2}{\\sigma_i^2} \\right)$$\n",
    "\n",
    "Trataremos de maximizar esta función utilizando el algoritmo de Metrópolis"
   ]
  },
  {
   "cell_type": "code",
   "execution_count": null,
   "metadata": {},
   "outputs": [],
   "source": []
  }
 ],
 "metadata": {
  "kernelspec": {
   "display_name": "Python 3",
   "language": "python",
   "name": "python3"
  },
  "language_info": {
   "codemirror_mode": {
    "name": "ipython",
    "version": 3
   },
   "file_extension": ".py",
   "mimetype": "text/x-python",
   "name": "python",
   "nbconvert_exporter": "python",
   "pygments_lexer": "ipython3",
   "version": "3.7.0"
  }
 },
 "nbformat": 4,
 "nbformat_minor": 2
}
