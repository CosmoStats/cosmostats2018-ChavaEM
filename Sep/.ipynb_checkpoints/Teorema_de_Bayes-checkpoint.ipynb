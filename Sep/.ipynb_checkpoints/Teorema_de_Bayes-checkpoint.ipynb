{
 "cells": [
  {
   "cell_type": "markdown",
   "metadata": {},
   "source": [
    "# Demostración del teorema de Bayes\n",
    "Para esto, consideramos eventos independientes $x$ y $y$. Debido a esto se cumple que: \n",
    "\n",
    "$$P(x, y) = P(y, x)$$\n",
    "\n",
    "Una de las reglas de probabilidad es que $P(x, y) = P(x \\, |\\, y)P(y)$, por lo que tenemos:\n",
    "\n",
    "$$P(x\\, |\\, y) P(y) = P(y\\, |\\, x) P(x)$$\n",
    "\n",
    "Llegando a:\n",
    "\n",
    "$$P(x\\, |\\, y) = {P(y\\, |\\, x) P(x) \\over P(y)}$$"
   ]
  }
 ],
 "metadata": {
  "kernelspec": {
   "display_name": "Python 3",
   "language": "python",
   "name": "python3"
  },
  "language_info": {
   "codemirror_mode": {
    "name": "ipython",
    "version": 3
   },
   "file_extension": ".py",
   "mimetype": "text/x-python",
   "name": "python",
   "nbconvert_exporter": "python",
   "pygments_lexer": "ipython3",
   "version": "3.7.0"
  }
 },
 "nbformat": 4,
 "nbformat_minor": 2
}
