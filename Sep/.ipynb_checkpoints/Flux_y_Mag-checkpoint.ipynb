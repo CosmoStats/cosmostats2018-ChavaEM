{
 "cells": [
  {
   "cell_type": "markdown",
   "metadata": {},
   "source": [
    "# Ejercicio 1\n",
    "Si $y= \\Phi (x) = exp(x)$ y $p(x) = 1$, para $0 \\le x \\le 1$ es decir, es una distribución uniforme. ¿Cuál es la distribución resutante para $y$ ?"
   ]
  },
  {
   "cell_type": "markdown",
   "metadata": {},
   "source": [
    "Tenemos la siguiente ecuación: \n",
    "\n",
    "$$p(y) = p(\\Phi^{-1}(y)) \\, \\left \\lvert{\\frac{d \\Phi^{-1}(y)}{dx}}\\right \\rvert$$\n",
    "\n",
    "Considerando que $\\Phi^{-1}(y) = x = ln(y)$ y que $1\\le y \\le e$, tenemos que:\n",
    "\n",
    "$$p(\\Phi^{-1}(y)) = p(x) = 1$$\n",
    "\n",
    "y \n",
    "\n",
    "$$\\left \\lvert{\\frac{d \\Phi^{-1}(y)}{dx}}\\right \\rvert = \\left \\lvert{\\frac{d \\, ln(y)}{dy}}\\right \\rvert = \\left \\lvert {1 \\over y}\\right \\rvert = {1 \\over y}$$\n",
    "\n",
    "Por lo tanto:\n",
    "\n",
    "$$p(y) = {1 \\over y}$$"
   ]
  },
  {
   "cell_type": "markdown",
   "metadata": {},
   "source": [
    "# Ejercicio 2\n",
    "Si el flujo sigue una distribución Gaussiana, ¿Cómo es la distribución en magnitud? $mag = -2.5log_{10}(flux)$\n"
   ]
  },
  {
   "cell_type": "markdown",
   "metadata": {},
   "source": [
    "Para simplificar, consideraremos $flux = x$ y $mag = y$, entonces:\n",
    "\n",
    "$$p(x) = {1 \\over \\sigma \\sqrt{2 \\pi}} exp\\left (- \\frac{(x - \\mu)^2}{2 \\sigma ^2} \\right ) = p(\\Phi^{-1}(y))$$\n",
    "\n",
    "y \n",
    "\n",
    "$$y = - 2.5 log_{10}(x)$$\n",
    "\n",
    "Obtenemos $\\Phi^{-1}(y)$:\n",
    "\n",
    "$$\\Phi^{-1}(y) = x = 10^{- {y \\over 2.5}}$$\n",
    "\n",
    "Derivamos  esta función:\n",
    "\n",
    "$$\\left \\lvert \\frac{d \\Phi^{-1}(y)}{dy} \\right \\rvert = \\left \\lvert - {ln10 \\over 2.5} 10^{-y \\over 2.5} \\right \\rvert = {ln 10 \\over 2.5} \\, 10^{-y \\over 2.5}$$"
   ]
  },
  {
   "cell_type": "markdown",
   "metadata": {},
   "source": [
    "Por lo tanto, la probabilidad de $y$ es:\n",
    "\n",
    "$$p(y) = {ln 10 \\over 2.5 \\sigma \\sqrt{2 \\pi}} 10^{-y \\over 2.5} exp\\left (- \\frac{(10^{- {y \\over 2.5}} - \\mu)^2}{2 \\sigma ^2} \\right )$$"
   ]
  },
  {
   "cell_type": "code",
   "execution_count": 1,
   "metadata": {},
   "outputs": [],
   "source": [
    "import numpy as np\n",
    "import math\n",
    "import matplotlib.pyplot as plt\n",
    "from pylab import rcParams\n",
    "import scipy.special as sp\n",
    "from random import random\n",
    "\n",
    "%matplotlib inline\n",
    "rcParams['figure.figsize'] = (10, 6)"
   ]
  },
  {
   "cell_type": "code",
   "execution_count": 27,
   "metadata": {},
   "outputs": [
    {
     "data": {
      "text/plain": [
       "Text(0,0.5,'p(flux)')"
      ]
     },
     "execution_count": 27,
     "metadata": {},
     "output_type": "execute_result"
    },
    {
     "data": {
      "image/png": "[encoded data removed]",
      "text/plain": [
       "<Figure size 432x288 with 1 Axes>"
      ]
     },
     "metadata": {},
     "output_type": "display_data"
    }
   ],
   "source": [
    "#Hacemos un arreglo con valores entre 0 y 2 para el flux\n",
    "flux = np.arange(0,2, 0.01)\n",
    "\n",
    "#Definimos la funcion de probabilidad del flux\n",
    "def Pflux(x, mu, sigma):\n",
    "    return 1/(sigma*math.sqrt(2*math.pi))*np.exp(-(x-mu)**2/(2*sigma**2))\n",
    "\n",
    "#Asignamos valores para la media y la desviacion estandar\n",
    "mu = 1\n",
    "sigma = 0.25\n",
    "\n",
    "#Graficamos flux vs p(flux)\n",
    "plt.plot(flux,Pflux(flux, mu, sigma), 'k')\n",
    "\n",
    "#Graficamos una recta vertical en el valor de la media\n",
    "plt.axvline(x = mu, color='r', linestyle = '--')\n",
    "\n",
    "#Generamos valores aleatorios entre 0 y 1\n",
    "F_flux = np.array([random() for i in range(40000)])\n",
    "\n",
    "#Utilizando la funcion de distribucion acumulada inversa, obtenemos los valores para el flujo (flux)\n",
    "Flux = math.sqrt(2) * sigma * sp.erfinv(2 * F_flux - 1) + mu\n",
    "\n",
    "#Graficamos el histograma\n",
    "n, bins, patches = plt.hist(Flux, bins = 50, density = True, color = 'g')\n",
    "plt.xlim([min(Flux), max(Flux)])\n",
    "plt.xlabel('flux', fontsize = 16)\n",
    "plt.ylabel('p(flux)', fontsize = 16)"
   ]
  },
  {
   "cell_type": "markdown",
   "metadata": {},
   "source": [
    "Para poder generar el histograma de $mag$, necesitamos obtener la función de distribución acumulada (CDF) inversa. Vamos a obtener primero la CDF a partir de la función de probabilidad obtenida anteriormente:\n",
    "\n",
    "$$F(x) = \\int_{-\\infty}^x p(y) \\, dy$$\n",
    "\n",
    "Siendo $p(y) = {ln 10 \\over 2.5 \\sigma \\sqrt{2 \\pi}}10^{-y \\over 2.5} exp \\left ( - \\frac{\\left (10^{-y \\over 2.5} - \\mu \\right )^2}{2 \\sigma^2}\\right )$ y considerando que $y = mag$\n",
    "\n",
    "Al sustituir $p(y)$ en $F(x)$ y haciendo el cambio de variable $u = 10^{-y \\over 2.5}$ con $du = -{ln 10 \\over 2.5} 10^{-y \\over 2.5} dy$, obtenemos:\n",
    "\n",
    "$$F(x) = - {1 \\over \\sigma \\sqrt{2\\pi}} \\int_{\\infty}^{10^{-x \\over 2.5}}exp \\left ( -\\frac{(u- \\mu)^2}{2 \\sigma^2} \\right ) \\, du$$\n",
    "\n",
    "Invirtiendo los límites y haciendo el cambio de variable $t = {u - \\mu \\over \\sigma \\sqrt{2}}$ con $dt = {du \\over \\sigma \\sqrt{2}}$ llegamos a:\n",
    "\n",
    "$$F(x) = {1 \\over \\sqrt{\\pi}} \\int_{\\frac{10^{-x \\over 2.5} - \\mu}{\\sigma \\sqrt{2}}}^\\infty \\, e^{-t^2} \\, dt$$\n",
    "\n",
    "Tomando en cuenta que $1- erf(x) = {2 \\over \\sqrt{\\pi}}\\int_x^\\infty e^{-t^2}\\, dt$, llegamos a:\n",
    "\n",
    "$$F(x) = {1 \\over 2} \\left [ 1- erf \\left ( \\frac{10^{-x \\over 2.5} - \\mu}{\\sqrt{2} \\sigma} \\right ) \\right ]$$\n",
    "\n",
    "Podemos obtener la CDF inversa, $P^{-1}(F)$ simplemente despejando $x$ de $F(x)$:\n",
    "\n",
    "$$P^{-1}(F) = -2.5 \\, \\log_{10}\\left [ \\sqrt{2} \\sigma \\,  erf^{-1}(1-2F) + \\mu \\right ]$$\n",
    "\n",
    "(Nótese que $\\sqrt{2} \\sigma \\,  erf^{-1}(1-2F) + \\mu > 0$)"
   ]
  },
  {
   "cell_type": "code",
   "execution_count": 28,
   "metadata": {},
   "outputs": [
    {
     "data": {
      "text/plain": [
       "Text(0,0.5,'p(mag)')"
      ]
     },
     "execution_count": 28,
     "metadata": {},
     "output_type": "execute_result"
    },
    {
     "data": {
      "image/png": "[encoded data removed]",
      "text/plain": [
       "<Figure size 432x288 with 1 Axes>"
      ]
     },
     "metadata": {},
     "output_type": "display_data"
    }
   ],
   "source": [
    "#Hacemos un arreglo entre -1 y 1 para mag\n",
    "x = np.arange(-1,1, 0.01)\n",
    "\n",
    "#Hacemos otro arreglo para la probabilidad de mag, Pmag\n",
    "Pmag = math.log(10)/(2.5*sigma*math.sqrt(2*math.pi))*np.power(10,(-1)*x/2.5)*np.exp(-(np.power(10,(-1)*x/2.5) - mu)**2/(2*sigma**2))\n",
    "\n",
    "#Graficamos la funcion de Pmag\n",
    "plt.plot(x, Pmag, 'k')\n",
    "\n",
    "#Graficamo sla linea vertical\n",
    "plt.axvline(x = 0, color = 'r', linestyle = '--')\n",
    "\n",
    "#Calculamos el valor maximo que puede tomar la CDF para que su inversa exista\n",
    "maximo = 0.5 * (1 - sp.erf(-mu/(math.sqrt(2)*sigma)))\n",
    "\n",
    "#Generamos los valores para mag a partir de la CDF inversa\n",
    "Fmag = np.array([])\n",
    "for i in range(40000):\n",
    "    fmag = random()\n",
    "    if fmag < maximo:\n",
    "        Fmag = np.append(Fmag, fmag)\n",
    "Mag = -2.5*np.log10(math.sqrt(2) * sigma * sp.erfinv(1-2*Fmag) + mu)\n",
    "\n",
    "#Columnas para el histograma\n",
    "Bins = np.arange(-1.0, 1.0, 0.05)\n",
    "\n",
    "#Generamos el histograma \n",
    "n, bins, patches = plt.hist(Mag, bins = Bins, density = True, color = 'g')\n",
    "\n",
    "plt.xlim([-1, 1])\n",
    "plt.xlabel('mag', fontsize = 16)\n",
    "plt.ylabel('p(mag)', fontsize = 16)"
   ]
  }
 ],
 "metadata": {
  "kernelspec": {
   "display_name": "Python 3",
   "language": "python",
   "name": "python3"
  },
  "language_info": {
   "codemirror_mode": {
    "name": "ipython",
    "version": 3
   },
   "file_extension": ".py",
   "mimetype": "text/x-python",
   "name": "python",
   "nbconvert_exporter": "python",
   "pygments_lexer": "ipython3",
   "version": "3.7.0"
  }
 },
 "nbformat": 4,
 "nbformat_minor": 2
}
