{
 "cells": [
  {
   "cell_type": "markdown",
   "metadata": {},
   "source": [
    "# Ejercicio 1\n",
    "Si $y= \\Phi (x) = exp(x)$ y $p(x) = 1$, para $0 \\le x \\le 1$ es decir, es una distribución uniforme. ¿Cuál es la distribución resutante para $y$ ?"
   ]
  },
  {
   "cell_type": "markdown",
   "metadata": {},
   "source": [
    "Tenemos la siguiente ecuación: \n",
    "\n",
    "$$p(y) = p(\\Phi^{-1}(y)) \\, \\left \\lvert{\\frac{d \\Phi^{-1}(y)}{dx}}\\right \\rvert$$\n",
    "\n",
    "Considerando que $\\Phi^{-1}(y) = x = ln(y)$ y que $1\\le y \\le e$, tenemos que:\n",
    "\n",
    "$$p(\\Phi^{-1}(y)) = p(x) = 1$$\n",
    "\n",
    "y \n",
    "\n",
    "$$\\left \\lvert{\\frac{d \\Phi^{-1}(y)}{dx}}\\right \\rvert = \\left \\lvert{\\frac{d \\, ln(y)}{dy}}\\right \\rvert = \\left \\lvert {1 \\over y}\\right \\rvert = {1 \\over y}$$\n",
    "\n",
    "Por lo tanto:\n",
    "\n",
    "$$p(y) = {1 \\over y}$$"
   ]
  },
  {
   "cell_type": "markdown",
   "metadata": {},
   "source": [
    "# Ejercicio 2\n",
    "Si el flujo sigue una distribución Gaussiana, ¿Cómo es la distribución en magnitud? $mag = -2.5log_{10}(flux)$\n"
   ]
  },
  {
   "cell_type": "markdown",
   "metadata": {},
   "source": [
    "Para simplificar, consideraremos $flux = x$ y $mag = y$, entonces:\n",
    "\n",
    "$$p(x) = {1 \\over \\sigma \\sqrt{2 \\pi}} exp\\left (- \\frac{(x - \\mu)^2}{2 \\sigma ^2} \\right ) = p(\\Phi^{-1}(y))$$\n",
    "\n",
    "y \n",
    "\n",
    "$$y = - 2.5 log_{10}(x)$$\n",
    "\n",
    "Obtenemos $\\Phi^{-1}(y)$:\n",
    "\n",
    "$$\\Phi^{-1}(y) = x = 10^{- {y \\over 2.5}}$$\n",
    "\n",
    "Derivamos  esta función:\n",
    "\n",
    "$$\\left \\lvert \\frac{d \\Phi^{-1}(y)}{dy} \\right \\rvert = \\left \\lvert - {ln10 \\over 2.5} 10^{-y \\over 2.5} \\right \\rvert = {ln 10 \\over 2.5} \\, 10^{-y \\over 2.5}$$"
   ]
  },
  {
   "cell_type": "markdown",
   "metadata": {},
   "source": [
    "Por lo tanto, la probabilidad de $y$ es:\n",
    "\n",
    "$$p(y) = {ln 10 \\over 2.5 \\sigma \\sqrt{2 \\pi}} 10^{-y \\over 2.5} exp\\left (- \\frac{(10^{- {y \\over 2.5}} - \\mu)^2}{2 \\sigma ^2} \\right )$$"
   ]
  },
  {
   "cell_type": "code",
   "execution_count": null,
   "metadata": {},
   "outputs": [],
   "source": []
  }
 ],
 "metadata": {
  "kernelspec": {
   "display_name": "Python 3",
   "language": "python",
   "name": "python3"
  },
  "language_info": {
   "codemirror_mode": {
    "name": "ipython",
    "version": 3
   },
   "file_extension": ".py",
   "mimetype": "text/x-python",
   "name": "python",
   "nbconvert_exporter": "python",
   "pygments_lexer": "ipython3",
   "version": "3.7.0"
  }
 },
 "nbformat": 4,
 "nbformat_minor": 2
}
