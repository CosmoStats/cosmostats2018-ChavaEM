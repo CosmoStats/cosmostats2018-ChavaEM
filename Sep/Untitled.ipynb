{
 "cells": [
  {
   "cell_type": "markdown",
   "metadata": {},
   "source": [
    "# Función de distribución acumulada para la distribución Gaussiana"
   ]
  },
  {
   "cell_type": "markdown",
   "metadata": {},
   "source": [
    "A partir de la distribución Gaussiana:\n",
    "\n",
    "$$f(x) = \\frac{1}{\\sigma \\sqrt{2\\pi}}exp\\left(-\\frac{(x-\\mu)^2}{2\\sigma^2}\\right)$$\n",
    "\n",
    "podemos encontrar la funciń de distribución acumulada definida como:\n",
    "\n",
    "$$F(x) = \\int_{- \\infty}^x f(x')dx'$$\n",
    "\n",
    "Al sustituir la distribución gaussiana y haciendo el cambio de variable: $u = \\frac{x-\\mu}{\\sqrt{2}\\sigma}$ con $du = \\frac{dx}{\\sqrt{2}\\sigma}$, tenemos:\n",
    "\n",
    "$$F(x) = \\frac{1}{\\sqrt{\\pi}} \\int_{- \\infty}^{\\frac{x-\\mu}{\\sqrt{2}\\sigma}}e^{-u^2}du = \\frac{1}{\\sqrt{\\pi}}\\left[ \\int_{- \\infty}^0 e^{-u^2}du + \\int_0^{\\frac{x-\\mu}{\\sqrt{2}\\sigma}}e^{-u^2}\\right]du$$\n",
    "\n",
    "Dado que:\n",
    "\n",
    "$$\\int_{-\\infty}^0 e^{-u^2}du = \\frac{\\sqrt{\\pi}}{2}$$\n",
    "\n",
    "y\n",
    "\n",
    "$$erf(x) = \\frac{2}{\\sqrt{\\pi}}\\int_0^x e^{-u^2}du$$\n",
    "\n",
    "Tenemos que:\n",
    "\n",
    "$$F(x) = \\frac{1}{2}\\left[ 1 + erf\\left(\\frac{x-\\mu}{\\sqrt{2}\\sigma}\\right) \\right]$$"
   ]
  },
  {
   "cell_type": "code",
   "execution_count": null,
   "metadata": {},
   "outputs": [],
   "source": []
  }
 ],
 "metadata": {
  "kernelspec": {
   "display_name": "Python 3",
   "language": "python",
   "name": "python3"
  },
  "language_info": {
   "codemirror_mode": {
    "name": "ipython",
    "version": 3
   },
   "file_extension": ".py",
   "mimetype": "text/x-python",
   "name": "python",
   "nbconvert_exporter": "python",
   "pygments_lexer": "ipython3",
   "version": "3.7.0"
  }
 },
 "nbformat": 4,
 "nbformat_minor": 2
}
