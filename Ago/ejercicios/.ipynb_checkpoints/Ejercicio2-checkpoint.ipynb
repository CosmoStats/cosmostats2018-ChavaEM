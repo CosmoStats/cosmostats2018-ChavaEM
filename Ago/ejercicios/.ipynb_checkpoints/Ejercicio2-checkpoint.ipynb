{
 "cells": [
  {
   "cell_type": "markdown",
   "metadata": {},
   "source": [
    "# Ejercicio 2"
   ]
  },
  {
   "cell_type": "markdown",
   "metadata": {},
   "source": [
    "## Deducción de los parámetros del ajuste lineal por mínimos cuadrados"
   ]
  },
  {
   "cell_type": "markdown",
   "metadata": {},
   "source": [
    "Para deducir estas expresiones, partimos de la definición de residuo, esto es:\n",
    "$$\\displaystyle R^2 = \\sum_{i=1}^n [y_i-f(x_i;a_1,a_2,...,a_k)]^2$$\n",
    "\n",
    "En el caso de un ajuste lineal, la función es $f(x_i;m,b) = mx_i+b$, por lo que tenemos:\n",
    "$$\\displaystyle R^2 = \\sum_{i=1}^n [y_i-mx_i-b]^2$$\n",
    "\n",
    "Primero derivamos $R^2$ respecto a $m$ y extremizamos:\n",
    "\n",
    "$$\\displaystyle \\frac{\\partial R^2}{\\partial m} = \\frac{\\partial}{\\partial m}\\left[\\sum_{i=1}^n(y_i-mx_i-b)^2\\right] = 0$$\n",
    "\n",
    "Por la linealidad de la derivada:\n",
    "\n",
    "$$\\displaystyle \\sum_{i=1}^n \\frac{\\partial}{\\partial m}(y_i-mx_i-b)^2 = \\sum_{i=1}^n 2 (y_i-mx_i-b)(-x_i) = 0$$\n",
    "\n",
    "Distribuimos la suma:\n",
    "\n",
    "$$\\sum_{i=1}^n y_ix_i -m \\sum_{i=1}^n x_i^2 -b \\sum_{i=1}^n x_i = 0$$\n",
    "\n",
    "Hacemos lo mismo, pero derivando respecto a $b$, con lo que tenemos:\n",
    "\n",
    "$$\\sum_{i=1}^n y_i -m \\sum_{i=1}^n x_i -\\sum_{i=1}^n b = 0$$\n",
    "\n",
    "Además $\\displaystyle \\sum_{i=1}^n 1 = n$ y definimos $\\displaystyle A= \\sum_{i=1}^n x_i$, $\\displaystyle B= \\sum_{i=1}^n x_i^2$, $\\displaystyle C= \\sum_{i=1}^n x_iy_i$, $\\displaystyle D= \\sum_{i=1}^n y_i$\n",
    "\n",
    "Por lo que tenemos el sistema de ecuaciones:\n",
    "\n",
    "$$C-Bm-Ab = 0$$\n",
    "\n",
    ",\n",
    "\n",
    "$$D-Am-nb = 0$$\n"
   ]
  },
  {
   "cell_type": "markdown",
   "metadata": {},
   "source": [
    "Al resolver para $m$ y $b$ tenemos:\n",
    "\n",
    "$$ m = \\frac{nC-AD}{nB-A^2}$$\n",
    "\n",
    ",\n",
    "\n",
    "$$ b = \\frac{BD-AC}{nB-A^2}$$\n",
    "\n",
    ",\n",
    "\n",
    "$$m = \\frac{n\\sum x_iy_i - \\sum x_i \\sum y_i}{n\\sum x_i^2 - \\left(\\sum x_i \\right)^2}$$\n",
    "\n",
    ",\n",
    "\n",
    "$$b = \\frac{\\sum y_i \\sum x_i^2 - \\sum x_i \\sum x_i y_i}{n\\sum x_i^2 - \\left( \\sum x_i \\right)^2}$$\n",
    "\n",
    "Que era lo que buscábamos"
   ]
  },
  {
   "cell_type": "markdown",
   "metadata": {},
   "source": [
    "\n",
    "## Parámetros en ajuste lineal por mínimos cuadrados\n",
    "Este programa es para calcular los parámetros $m$ y $b$ de la ecuación de la recta $y = mx+b$ para distintos conjuntos de datos. "
   ]
  },
  {
   "cell_type": "markdown",
   "metadata": {},
   "source": [
    "Importamos las librerías que vamos a utilizar"
   ]
  },
  {
   "cell_type": "code",
   "execution_count": 6,
   "metadata": {},
   "outputs": [],
   "source": [
    "import numpy as np\n",
    "import matplotlib.pyplot as plt\n",
    "%matplotlib inline"
   ]
  },
  {
   "cell_type": "markdown",
   "metadata": {},
   "source": [
    "Extraemos los datos del archivo de texto \"ejercicio2.txt\" y los acomodamos en numpy array llamado $x$ y $y$"
   ]
  },
  {
   "cell_type": "code",
   "execution_count": 11,
   "metadata": {},
   "outputs": [],
   "source": [
    "with open('ejercicio2.txt', 'r') as f:\n",
    "    X = []\n",
    "    Y = []\n",
    "    for line in f:\n",
    "        xi, yi= line.split()\n",
    "        X.append(float(xi))\n",
    "        Y.append(float(yi))\n",
    "x=np.asarray(X)\n",
    "y=np.asarray(Y)"
   ]
  },
  {
   "cell_type": "markdown",
   "metadata": {},
   "source": [
    "Definimos algunas sumas que serán necesarias más tarde: $n$ es el total de los datos, $\\, sy = \\sum y_i$, $\\, sx = \\sum x_i$, $\\, sx2 = \\sum x_i^2$ y $\\, sxy = \\sum x_iy_i$"
   ]
  },
  {
   "cell_type": "code",
   "execution_count": 12,
   "metadata": {},
   "outputs": [],
   "source": [
    "n = x.size\n",
    "sy = np.sum(y)\n",
    "sx = np.sum(x)\n",
    "sx2 = np.sum(x*x)\n",
    "sxy = np.sum(x*y)"
   ]
  },
  {
   "cell_type": "markdown",
   "metadata": {},
   "source": [
    "Utilizamos las ecuaciones deducidas en la sección anterior para $m$ y $b$"
   ]
  },
  {
   "cell_type": "code",
   "execution_count": 13,
   "metadata": {},
   "outputs": [
    {
     "name": "stdout",
     "output_type": "stream",
     "text": [
      "1.9099999999999995 0.2\n"
     ]
    }
   ],
   "source": [
    "b = (sy * sx2 - sx * sxy)/(n * sx2 - sx**2) \n",
    "m = (n * sxy - sx * sy) / (n * sx2 - sx**2)\n",
    "print(m, b)"
   ]
  },
  {
   "cell_type": "markdown",
   "metadata": {},
   "source": [
    "Graficamos tanto los datos del archivo como la regresión lineal con los parámetros obtenidos arriba"
   ]
  },
  {
   "cell_type": "code",
   "execution_count": 14,
   "metadata": {},
   "outputs": [
    {
     "data": {
      "text/plain": [
       "[<matplotlib.lines.Line2D at 0x7f571b368128>]"
      ]
     },
     "execution_count": 14,
     "metadata": {},
     "output_type": "execute_result"
    },
    {
     "data": {
      "image/png": "[encoded data removed]",
      "text/plain": [
       "<Figure size 432x288 with 1 Axes>"
      ]
     },
     "metadata": {},
     "output_type": "display_data"
    }
   ],
   "source": [
    "t = np.arange(1, 5, 1)\n",
    "v = m * t + b\n",
    "plt.plot(x, y, 'bo')\n",
    "plt.plot(t, v)"
   ]
  },
  {
   "cell_type": "code",
   "execution_count": null,
   "metadata": {},
   "outputs": [],
   "source": []
  }
 ],
 "metadata": {
  "kernelspec": {
   "display_name": "Python 3",
   "language": "python",
   "name": "python3"
  },
  "language_info": {
   "codemirror_mode": {
    "name": "ipython",
    "version": 3
   },
   "file_extension": ".py",
   "mimetype": "text/x-python",
   "name": "python",
   "nbconvert_exporter": "python",
   "pygments_lexer": "ipython3",
   "version": "3.7.0"
  }
 },
 "nbformat": 4,
 "nbformat_minor": 2
}
