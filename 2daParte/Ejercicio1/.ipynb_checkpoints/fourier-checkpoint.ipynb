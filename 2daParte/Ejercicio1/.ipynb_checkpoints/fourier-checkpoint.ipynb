{
 "cells": [
  {
   "cell_type": "markdown",
   "metadata": {},
   "source": [
    "# Transformada de Fourier\n",
    "\n",
    "La transformada de Fourier se define como:\n",
    "\n",
    "$$\\hat{f}(p) = {1 \\over \\sqrt{2 \\pi}}\\int_{-\\infty}^{\\infty}f(x) e^{-ipx} \\, dx$$\n",
    "\n",
    "Para hacer un codigo en Python, usamos la Transformada de Fourier Discreta (DFT):\n",
    "\n",
    "$$X_k = \\sum_{n = 0}^{N-1}x_n e^{-i2 \\pi k n \\, /\\, N}$$\n",
    "\n",
    "Que, esccrito en forma matricial, se puede expresar como:\n",
    "\n",
    "$$\\vec{X} = M \\cdot \\vec{x}$$\n",
    "\n",
    "donde\n",
    "\n",
    "$$M_{kn} = e^{-i2 \\pi k n \\, /\\, N}$$"
   ]
  },
  {
   "cell_type": "code",
   "execution_count": 1,
   "metadata": {},
   "outputs": [],
   "source": [
    "import numpy as np"
   ]
  },
  {
   "cell_type": "code",
   "execution_count": 38,
   "metadata": {},
   "outputs": [],
   "source": [
    "#Transformada discreta de Fourier\n",
    "def DFT(x):\n",
    "    x = np.asarray(x, dtype = float)\n",
    "    N = x.shape[0]\n",
    "    n = np.arange(N)\n",
    "    k = n.reshape((N, 1))\n",
    "    M = np.exp(-2j * np.pi * k * n / N)\n",
    "    \n",
    "    return np.dot(M, x)"
   ]
  },
  {
   "cell_type": "markdown",
   "metadata": {},
   "source": [
    "Para optimizar el código, usamos la propiedad de la DFT:\n",
    "\n",
    "\\begin{align*}\n",
    "X_{N + k} &=  \\sum_{n=0}^{N-1} x_n \\cdot e^{-i~2\\pi~(N + k)~n~/~N}\\\\\n",
    "          &= \\sum_{n=0}^{N-1} x_n \\cdot e^{- i~2\\pi~n} \\cdot e^{-i~2\\pi~k~n~/~N}\\\\\n",
    "          &= \\sum_{n=0}^{N-1} x_n \\cdot e^{-i~2\\pi~k~n~/~N}\\\\\n",
    "          &= X_k\n",
    "\\end{align*}\n",
    "\n",
    "Separando la DFT en suma par e impar, llegamos a:\n",
    "\n",
    "\\begin{align}\n",
    "X_k &= \\sum_{n=0}^{N-1} x_n \\cdot e^{-i~2\\pi~k~n~/~N} \\\\\n",
    "    &= \\sum_{m=0}^{N/2 - 1} x_{2m} \\cdot e^{-i~2\\pi~k~(2m)~/~N} + \\sum_{m=0}^{N/2 - 1} x_{2m + 1} \\cdot e^{-i~2\\pi~k~(2m + 1)~/~N} \\\\\n",
    "    &= \\sum_{m=0}^{N/2 - 1} x_{2m} \\cdot e^{-i~2\\pi~k~m~/~(N/2)} + e^{-i~2\\pi~k~/~N} \\sum_{m=0}^{N/2 - 1} x_{2m + 1} \\cdot e^{-i~2\\pi~k~m~/~(N/2)}\n",
    "\\end{align}\n",
    "\n",
    "Podemos redefinir $M = N/2$ de modo que podemos hacer esto de manera recursiva."
   ]
  },
  {
   "cell_type": "code",
   "execution_count": 39,
   "metadata": {},
   "outputs": [],
   "source": [
    "#Funcion optimizada de la DFT\n",
    "def Fourier(x):\n",
    "    x = np.asarray(x, dtype = float)\n",
    "    N = x.shape[0]\n",
    "    \n",
    "    if N % 2 > 0:\n",
    "        raise ValueError(\"El tamaño de x debe ser potencia de 2\")\n",
    "    elif N <= 32:\n",
    "        return DFT(x)\n",
    "    else:\n",
    "        X_par = Fourier(x[::2])\n",
    "        X_impar = Fourier(x[1::2])\n",
    "        factor = np.exp(-2j * np.pi * np.arange(N) / N)\n",
    "        return np.concatenate([X_par + factor[:int(N/2)] * X_impar, X_par + factor[int(N/2):] * X_impar])"
   ]
  },
  {
   "cell_type": "code",
   "execution_count": 41,
   "metadata": {},
   "outputs": [],
   "source": [
    "#Definimos la funcion Gaussiana\n",
    "def f(x, a, b, x0):\n",
    "    funcion = b * np.exp(-a * x**2) + x0\n",
    "    return funcion"
   ]
  },
  {
   "cell_type": "code",
   "execution_count": 46,
   "metadata": {},
   "outputs": [],
   "source": [
    "#Asignamos valores a las constantes\n",
    "a, b, x0 = 1, 1, 1\n",
    "x = np.linspace(-10, 10, 1024)\n",
    "funcion = f(x, a, b, x0)"
   ]
  },
  {
   "cell_type": "code",
   "execution_count": 47,
   "metadata": {},
   "outputs": [
    {
     "data": {
      "text/plain": [
       "[<matplotlib.lines.Line2D at 0x7f864afad358>]"
      ]
     },
     "execution_count": 47,
     "metadata": {},
     "output_type": "execute_result"
    },
    {
     "data": {
      "image/png": "[encoded data removed]",
      "text/plain": [
       "<Figure size 432x288 with 1 Axes>"
      ]
     },
     "metadata": {},
     "output_type": "display_data"
    }
   ],
   "source": [
    "#Graficamos la funcion Gaussiana\n",
    "import matplotlib.pyplot as plt\n",
    "%matplotlib inline\n",
    "\n",
    "plt.plot(x, funcion)"
   ]
  },
  {
   "cell_type": "code",
   "execution_count": 48,
   "metadata": {},
   "outputs": [
    {
     "name": "stderr",
     "output_type": "stream",
     "text": [
      "/home/chava/miniconda3/lib/python3.7/site-packages/numpy/core/numeric.py:501: ComplexWarning: Casting complex values to real discards the imaginary part\n",
      "  return array(a, dtype, copy=False, order=order)\n"
     ]
    },
    {
     "data": {
      "text/plain": [
       "[<matplotlib.lines.Line2D at 0x7f864af7f668>]"
      ]
     },
     "execution_count": 48,
     "metadata": {},
     "output_type": "execute_result"
    },
    {
     "data": {
      "image/png": "[encoded data removed]",
      "text/plain": [
       "<Figure size 432x288 with 1 Axes>"
      ]
     },
     "metadata": {},
     "output_type": "display_data"
    }
   ],
   "source": [
    "#Calculamos la tranformada de Fourier de la funcion Gaussiana y la graficamos\n",
    "g = Fourier(funcion)\n",
    "plt.plot(x, g)"
   ]
  },
  {
   "cell_type": "code",
   "execution_count": null,
   "metadata": {},
   "outputs": [],
   "source": []
  }
 ],
 "metadata": {
  "kernelspec": {
   "display_name": "Python 3",
   "language": "python",
   "name": "python3"
  },
  "language_info": {
   "codemirror_mode": {
    "name": "ipython",
    "version": 3
   },
   "file_extension": ".py",
   "mimetype": "text/x-python",
   "name": "python",
   "nbconvert_exporter": "python",
   "pygments_lexer": "ipython3",
   "version": "3.7.0"
  }
 },
 "nbformat": 4,
 "nbformat_minor": 2
}
