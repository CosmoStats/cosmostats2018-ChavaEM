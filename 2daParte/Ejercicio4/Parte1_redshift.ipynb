{
 "cells": [
  {
   "cell_type": "markdown",
   "metadata": {},
   "source": [
    "## Parte 1"
   ]
  },
  {
   "cell_type": "code",
   "execution_count": 2,
   "metadata": {},
   "outputs": [],
   "source": [
    "import numpy as np\n",
    "import matplotlib.pyplot as plt\n",
    "from pylab import rcParams\n",
    "import csv\n",
    "from random import random\n",
    "\n",
    "%matplotlib inline\n",
    "rcParams['figure.figsize'] = (10,10)"
   ]
  },
  {
   "cell_type": "code",
   "execution_count": 3,
   "metadata": {},
   "outputs": [],
   "source": [
    "with open(\"../Ejercicio2/Anillo.txt\") as anillo:\n",
    "    reader = csv.reader(anillo, delimiter = \"\\t\")\n",
    "    coord_anillo = list(zip(*reader))\n",
    "\n",
    "#Convertimos datos a flotantes\n",
    "anilloX = list(map(float, coord_anillo[0]))\n",
    "anilloY = list(map(float, coord_anillo[1]))"
   ]
  },
  {
   "cell_type": "markdown",
   "metadata": {},
   "source": [
    "Consideremos dos puntos $P_1 = (x_1, y_1)$ y $P_2 = (x_2, y_2)$, la distancia $d$ entre ellos esta dada por:\n",
    "\n",
    "$$d^2 = (x_2 - x_1)^2 + (y_2 - y_1)^2$$\n",
    "\n",
    "Como la velocidad es proporcional a la distancia, tenemos que la magnitud de la velocidad radial $v$ es:\n",
    "\n",
    "$$v = 0.1 d$$\n",
    "\n",
    "Además también se cumple que:\n",
    "\n",
    "$$v^2 = v_x^2 + v_y^2 = (0.1)^2d^2$$\n",
    "\n",
    "Sustituyendo $d^2$ en esta última ecuación llegamos a:\n",
    "\n",
    "$$v^2 = (0.1)^2(x_2 - x_1)^2 + (0.1)^2(y_2 - y_1)^2$$\n",
    "\n",
    "Por lo que podriamos decir que:\n",
    "\n",
    "$$v_x = 0.1(x_2 - x_1)$$\n",
    "\n",
    "$$v_y = 0.1(y_2 - y_1)$$\n",
    "\n",
    "Estas velocidades van de $P_1$ a $P_2$"
   ]
  },
  {
   "cell_type": "code",
   "execution_count": null,
   "metadata": {},
   "outputs": [],
   "source": [
    "lado = 1000\n",
    "dist_min = 1000\n",
    "dists_min = [0 for i in range(len(anilloX))]\n",
    "for i in range(len(anilloX)):\n",
    "    x1 = anilloX[i]\n",
    "    y1 = anilloY[i]\n",
    "    for j in range(len(anilloX)):\n",
    "        x2 = anilloX[j]\n",
    "        y2 = anilloY[j]\n",
    "        if (x1 - x2)**2 + (y1 - y2)**2 > (lado/10)**2:\n",
    "            continue\n",
    "        if (x1 - x2)**2 + (y1 - y2)**2 < dist_min**2:\n",
    "            dist_min = np.sqrt((x1 - x2)**2 + (y1 - y2)**2)\n",
    "    "
   ]
  },
  {
   "cell_type": "code",
   "execution_count": null,
   "metadata": {},
   "outputs": [],
   "source": []
  }
 ],
 "metadata": {
  "kernelspec": {
   "display_name": "Python 3",
   "language": "python",
   "name": "python3"
  },
  "language_info": {
   "codemirror_mode": {
    "name": "ipython",
    "version": 3
   },
   "file_extension": ".py",
   "mimetype": "text/x-python",
   "name": "python",
   "nbconvert_exporter": "python",
   "pygments_lexer": "ipython3",
   "version": "3.7.0"
  }
 },
 "nbformat": 4,
 "nbformat_minor": 2
}
