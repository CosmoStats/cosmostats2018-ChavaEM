{
 "cells": [
  {
   "cell_type": "markdown",
   "metadata": {},
   "source": [
    "## Parte 1"
   ]
  },
  {
   "cell_type": "code",
   "execution_count": 2,
   "metadata": {},
   "outputs": [],
   "source": [
    "import numpy as np\n",
    "import matplotlib.pyplot as plt\n",
    "from pylab import rcParams\n",
    "import csv\n",
    "from random import random\n",
    "\n",
    "%matplotlib inline\n",
    "rcParams['figure.figsize'] = (10,10)"
   ]
  },
  {
   "cell_type": "code",
   "execution_count": 4,
   "metadata": {},
   "outputs": [],
   "source": [
    "with open(\"../Ejercicio2/Anillo.txt\") as anillo:\n",
    "    reader = csv.reader(anillo, delimiter = \"\\t\")\n",
    "    coord_anillo = list(zip(*reader))\n",
    "\n",
    "#Convertimos datos a flotantes\n",
    "anilloX = list(map(float, coord_anillo[0]))\n",
    "anilloY = list(map(float, coord_anillo[1]))"
   ]
  },
  {
   "cell_type": "code",
   "execution_count": null,
   "metadata": {},
   "outputs": [],
   "source": [
    "lado = 1000\n",
    "dist_min = 1000\n",
    "for i in range(len(anilloX)):\n",
    "    x1 = anilloX[i]\n",
    "    y1 = anilloY[i]\n",
    "    for j in range(len(anilloX)):\n",
    "        x2 = anilloX[j]\n",
    "        y2 = anilloY[j]\n",
    "        if (x1 - x2)**2 + (y1 - y2)**2 > (lado/10)**2:\n",
    "            continue\n",
    "        if "
   ]
  },
  {
   "cell_type": "code",
   "execution_count": null,
   "metadata": {},
   "outputs": [],
   "source": []
  }
 ],
 "metadata": {
  "kernelspec": {
   "display_name": "Python 3",
   "language": "python",
   "name": "python3"
  },
  "language_info": {
   "codemirror_mode": {
    "name": "ipython",
    "version": 3
   },
   "file_extension": ".py",
   "mimetype": "text/x-python",
   "name": "python",
   "nbconvert_exporter": "python",
   "pygments_lexer": "ipython3",
   "version": "3.7.0"
  }
 },
 "nbformat": 4,
 "nbformat_minor": 2
}
